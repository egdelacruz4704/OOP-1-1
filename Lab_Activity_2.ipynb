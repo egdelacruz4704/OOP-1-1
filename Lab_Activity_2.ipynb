{
  "nbformat": 4,
  "nbformat_minor": 0,
  "metadata": {
    "colab": {
      "provenance": [],
      "authorship_tag": "ABX9TyPy7A/e/3HlH1/MDsW0TRW0",
      "include_colab_link": true
    },
    "kernelspec": {
      "name": "python3",
      "display_name": "Python 3"
    },
    "language_info": {
      "name": "python"
    }
  },
  "cells": [
    {
      "cell_type": "markdown",
      "metadata": {
        "id": "view-in-github",
        "colab_type": "text"
      },
      "source": [
        "<a href=\"https://colab.research.google.com/github/egdelacruz4704/OOP-1-1/blob/main/Lab_Activity_2.ipynb\" target=\"_parent\"><img src=\"https://colab.research.google.com/assets/colab-badge.svg\" alt=\"Open In Colab\"/></a>"
      ]
    },
    {
      "cell_type": "markdown",
      "source": [
        "**PROBLEM 2**\n"
      ],
      "metadata": {
        "id": "PdJv4oZHDuj4"
      }
    },
    {
      "cell_type": "code",
      "execution_count": 11,
      "metadata": {
        "colab": {
          "base_uri": "https://localhost:8080/"
        },
        "id": "PDC6W_h3Br6-",
        "outputId": "ec8e3961-3bb8-449f-f6d3-848c03a8bf11"
      },
      "outputs": [
        {
          "output_type": "stream",
          "name": "stdout",
          "text": [
            "Name:  Ellaine G. Dela Cruz\n",
            "Student Number:  0221-000-4704\n",
            "Age:  20\n",
            "Course:  Bachelor of Science in Computer Science\n"
          ]
        }
      ],
      "source": [
        "#1.\tWrite a Python to display your full name, student number, age, and course\n",
        "#2.\tCreate a class named Student with attributes: Name, Student_No, Age, School, and Course\n",
        "#3.\tCreate an object name Myself and assign an instance for each attribute.\n",
        "#4.\tCreate a method Info() using an instantiation of a class.\n",
        "#5.\tInsert your GitHub link \"Lab Activity 2\" from your repository named \"OOP 1-1\"\n",
        "\n",
        "\n",
        "class Student: #student class\n",
        "  def __init__(self, Name, Student_No, Age, School, Course):\n",
        "    self.Name = Name  #Student attributes\n",
        "    self.Student_No = Student_No\n",
        "    self.Age = Age\n",
        "    self.School = School\n",
        "    self.Course = Course\n",
        "\n",
        "  def Info(self): #Info method\n",
        "    print(self.Name)\n",
        "    print(self.Student_No)\n",
        "    print(self.Age)\n",
        "    print(self.School)\n",
        "    print(self.Course)\n",
        "\n",
        "Myself = Student(\"Ellaine G. Dela Cruz\", \"0221-000-4704\", 20, \"Our Lady of Fatima University Quezon City\", \"Bachelor of Science in Computer Science\") #assigning instance for each Student attributes\n",
        "print(\"Name: \", Myself.Name) #display full name, student number,age and course\n",
        "print(\"Student Number: \", Myself.Student_No) \n",
        "print(\"Age: \", Myself.Age)\n",
        "print(\"Course: \", Myself.Course)\n"
      ]
    }
  ]
}